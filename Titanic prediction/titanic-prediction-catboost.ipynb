{
 "cells": [
  {
   "cell_type": "code",
   "execution_count": 1,
   "id": "14962cc4",
   "metadata": {
    "_cell_guid": "b1076dfc-b9ad-4769-8c92-a6c4dae69d19",
    "_uuid": "8f2839f25d086af736a60e9eeb907d3b93b6e0e5",
    "execution": {
     "iopub.execute_input": "2023-08-16T15:43:37.117053Z",
     "iopub.status.busy": "2023-08-16T15:43:37.116536Z",
     "iopub.status.idle": "2023-08-16T15:43:39.960170Z",
     "shell.execute_reply": "2023-08-16T15:43:39.958404Z"
    },
    "papermill": {
     "duration": 2.864652,
     "end_time": "2023-08-16T15:43:39.963774",
     "exception": false,
     "start_time": "2023-08-16T15:43:37.099122",
     "status": "completed"
    },
    "tags": []
   },
   "outputs": [
    {
     "name": "stderr",
     "output_type": "stream",
     "text": [
      "/opt/conda/lib/python3.10/site-packages/scipy/__init__.py:146: UserWarning: A NumPy version >=1.16.5 and <1.23.0 is required for this version of SciPy (detected version 1.23.5\n",
      "  warnings.warn(f\"A NumPy version >={np_minversion} and <{np_maxversion}\"\n"
     ]
    }
   ],
   "source": [
    "import numpy as np\n",
    "import pandas as pd\n",
    "import matplotlib.pyplot as plt\n",
    "import seaborn as sns\n",
    "from scipy.stats import chi2_contingency\n",
    "from sklearn.metrics import accuracy_score\n",
    "import scikitplot as skplt\n",
    "\n",
    "from catboost import Pool, CatBoostClassifier\n",
    "\n",
    "from sklearn.metrics import *\n",
    "from sklearn.model_selection import train_test_split, GridSearchCV\n",
    "\n",
    "%matplotlib inline\n"
   ]
  },
  {
   "cell_type": "markdown",
   "id": "30642dcd",
   "metadata": {
    "papermill": {
     "duration": 0.012684,
     "end_time": "2023-08-16T15:43:39.989951",
     "exception": false,
     "start_time": "2023-08-16T15:43:39.977267",
     "status": "completed"
    },
    "tags": []
   },
   "source": [
    "Hi everyone, I am new to Kaggle. Recently I started pursuing ML , data science. I was interested in utilizing catboost. I noticed few using GridSearch for model Selection, but I do not see much difference as Catboost in itself gives an accuracy if the parameters are refined to consider the best model. Please share your feedback. \n",
    "Note: I have referred multiple author's code to come up with my model. Please excuse me for not giving credits. "
   ]
  },
  {
   "cell_type": "code",
   "execution_count": 2,
   "id": "d08d77ea",
   "metadata": {
    "execution": {
     "iopub.execute_input": "2023-08-16T15:43:40.019175Z",
     "iopub.status.busy": "2023-08-16T15:43:40.018244Z",
     "iopub.status.idle": "2023-08-16T15:43:40.064490Z",
     "shell.execute_reply": "2023-08-16T15:43:40.063295Z"
    },
    "papermill": {
     "duration": 0.064551,
     "end_time": "2023-08-16T15:43:40.067524",
     "exception": false,
     "start_time": "2023-08-16T15:43:40.002973",
     "status": "completed"
    },
    "tags": []
   },
   "outputs": [],
   "source": [
    "#train and test data\n",
    "train = pd.read_csv('/kaggle/input/titanic/train.csv')\n",
    "test = pd.read_csv('/kaggle/input/titanic/test.csv')"
   ]
  },
  {
   "cell_type": "code",
   "execution_count": 3,
   "id": "52744f00",
   "metadata": {
    "execution": {
     "iopub.execute_input": "2023-08-16T15:43:40.096739Z",
     "iopub.status.busy": "2023-08-16T15:43:40.095929Z",
     "iopub.status.idle": "2023-08-16T15:43:40.155001Z",
     "shell.execute_reply": "2023-08-16T15:43:40.153703Z"
    },
    "papermill": {
     "duration": 0.076607,
     "end_time": "2023-08-16T15:43:40.157783",
     "exception": false,
     "start_time": "2023-08-16T15:43:40.081176",
     "status": "completed"
    },
    "tags": []
   },
   "outputs": [
    {
     "data": {
      "text/html": [
       "<div>\n",
       "<style scoped>\n",
       "    .dataframe tbody tr th:only-of-type {\n",
       "        vertical-align: middle;\n",
       "    }\n",
       "\n",
       "    .dataframe tbody tr th {\n",
       "        vertical-align: top;\n",
       "    }\n",
       "\n",
       "    .dataframe thead th {\n",
       "        text-align: right;\n",
       "    }\n",
       "</style>\n",
       "<table border=\"1\" class=\"dataframe\">\n",
       "  <thead>\n",
       "    <tr style=\"text-align: right;\">\n",
       "      <th></th>\n",
       "      <th>PassengerId</th>\n",
       "      <th>Survived</th>\n",
       "      <th>Pclass</th>\n",
       "      <th>Age</th>\n",
       "      <th>SibSp</th>\n",
       "      <th>Parch</th>\n",
       "      <th>Fare</th>\n",
       "    </tr>\n",
       "  </thead>\n",
       "  <tbody>\n",
       "    <tr>\n",
       "      <th>count</th>\n",
       "      <td>891.000000</td>\n",
       "      <td>891.000000</td>\n",
       "      <td>891.000000</td>\n",
       "      <td>714.000000</td>\n",
       "      <td>891.000000</td>\n",
       "      <td>891.000000</td>\n",
       "      <td>891.000000</td>\n",
       "    </tr>\n",
       "    <tr>\n",
       "      <th>mean</th>\n",
       "      <td>446.000000</td>\n",
       "      <td>0.383838</td>\n",
       "      <td>2.308642</td>\n",
       "      <td>29.699118</td>\n",
       "      <td>0.523008</td>\n",
       "      <td>0.381594</td>\n",
       "      <td>32.204208</td>\n",
       "    </tr>\n",
       "    <tr>\n",
       "      <th>std</th>\n",
       "      <td>257.353842</td>\n",
       "      <td>0.486592</td>\n",
       "      <td>0.836071</td>\n",
       "      <td>14.526497</td>\n",
       "      <td>1.102743</td>\n",
       "      <td>0.806057</td>\n",
       "      <td>49.693429</td>\n",
       "    </tr>\n",
       "    <tr>\n",
       "      <th>min</th>\n",
       "      <td>1.000000</td>\n",
       "      <td>0.000000</td>\n",
       "      <td>1.000000</td>\n",
       "      <td>0.420000</td>\n",
       "      <td>0.000000</td>\n",
       "      <td>0.000000</td>\n",
       "      <td>0.000000</td>\n",
       "    </tr>\n",
       "    <tr>\n",
       "      <th>25%</th>\n",
       "      <td>223.500000</td>\n",
       "      <td>0.000000</td>\n",
       "      <td>2.000000</td>\n",
       "      <td>20.125000</td>\n",
       "      <td>0.000000</td>\n",
       "      <td>0.000000</td>\n",
       "      <td>7.910400</td>\n",
       "    </tr>\n",
       "    <tr>\n",
       "      <th>50%</th>\n",
       "      <td>446.000000</td>\n",
       "      <td>0.000000</td>\n",
       "      <td>3.000000</td>\n",
       "      <td>28.000000</td>\n",
       "      <td>0.000000</td>\n",
       "      <td>0.000000</td>\n",
       "      <td>14.454200</td>\n",
       "    </tr>\n",
       "    <tr>\n",
       "      <th>75%</th>\n",
       "      <td>668.500000</td>\n",
       "      <td>1.000000</td>\n",
       "      <td>3.000000</td>\n",
       "      <td>38.000000</td>\n",
       "      <td>1.000000</td>\n",
       "      <td>0.000000</td>\n",
       "      <td>31.000000</td>\n",
       "    </tr>\n",
       "    <tr>\n",
       "      <th>max</th>\n",
       "      <td>891.000000</td>\n",
       "      <td>1.000000</td>\n",
       "      <td>3.000000</td>\n",
       "      <td>80.000000</td>\n",
       "      <td>8.000000</td>\n",
       "      <td>6.000000</td>\n",
       "      <td>512.329200</td>\n",
       "    </tr>\n",
       "  </tbody>\n",
       "</table>\n",
       "</div>"
      ],
      "text/plain": [
       "       PassengerId    Survived      Pclass         Age       SibSp  \\\n",
       "count   891.000000  891.000000  891.000000  714.000000  891.000000   \n",
       "mean    446.000000    0.383838    2.308642   29.699118    0.523008   \n",
       "std     257.353842    0.486592    0.836071   14.526497    1.102743   \n",
       "min       1.000000    0.000000    1.000000    0.420000    0.000000   \n",
       "25%     223.500000    0.000000    2.000000   20.125000    0.000000   \n",
       "50%     446.000000    0.000000    3.000000   28.000000    0.000000   \n",
       "75%     668.500000    1.000000    3.000000   38.000000    1.000000   \n",
       "max     891.000000    1.000000    3.000000   80.000000    8.000000   \n",
       "\n",
       "            Parch        Fare  \n",
       "count  891.000000  891.000000  \n",
       "mean     0.381594   32.204208  \n",
       "std      0.806057   49.693429  \n",
       "min      0.000000    0.000000  \n",
       "25%      0.000000    7.910400  \n",
       "50%      0.000000   14.454200  \n",
       "75%      0.000000   31.000000  \n",
       "max      6.000000  512.329200  "
      ]
     },
     "execution_count": 3,
     "metadata": {},
     "output_type": "execute_result"
    }
   ],
   "source": [
    "train.describe()"
   ]
  },
  {
   "cell_type": "markdown",
   "id": "a0cb62aa",
   "metadata": {
    "papermill": {
     "duration": 0.013054,
     "end_time": "2023-08-16T15:43:40.184286",
     "exception": false,
     "start_time": "2023-08-16T15:43:40.171232",
     "status": "completed"
    },
    "tags": []
   },
   "source": [
    "Identify Null values and fill it with NA or negative value so that Catbooster can distinguish it"
   ]
  },
  {
   "cell_type": "code",
   "execution_count": 4,
   "id": "df7e2e2a",
   "metadata": {
    "execution": {
     "iopub.execute_input": "2023-08-16T15:43:40.213706Z",
     "iopub.status.busy": "2023-08-16T15:43:40.213104Z",
     "iopub.status.idle": "2023-08-16T15:43:40.227373Z",
     "shell.execute_reply": "2023-08-16T15:43:40.225832Z"
    },
    "papermill": {
     "duration": 0.032645,
     "end_time": "2023-08-16T15:43:40.230360",
     "exception": false,
     "start_time": "2023-08-16T15:43:40.197715",
     "status": "completed"
    },
    "tags": []
   },
   "outputs": [
    {
     "data": {
      "text/plain": [
       "PassengerId      0\n",
       "Survived         0\n",
       "Pclass           0\n",
       "Name             0\n",
       "Sex              0\n",
       "Age            177\n",
       "SibSp            0\n",
       "Parch            0\n",
       "Ticket           0\n",
       "Fare             0\n",
       "Cabin          687\n",
       "Embarked         2\n",
       "dtype: int64"
      ]
     },
     "execution_count": 4,
     "metadata": {},
     "output_type": "execute_result"
    }
   ],
   "source": [
    "train.isnull().sum()"
   ]
  },
  {
   "cell_type": "code",
   "execution_count": 5,
   "id": "f1845a3d",
   "metadata": {
    "execution": {
     "iopub.execute_input": "2023-08-16T15:43:40.260176Z",
     "iopub.status.busy": "2023-08-16T15:43:40.258993Z",
     "iopub.status.idle": "2023-08-16T15:43:40.270836Z",
     "shell.execute_reply": "2023-08-16T15:43:40.269246Z"
    },
    "papermill": {
     "duration": 0.030149,
     "end_time": "2023-08-16T15:43:40.274071",
     "exception": false,
     "start_time": "2023-08-16T15:43:40.243922",
     "status": "completed"
    },
    "tags": []
   },
   "outputs": [],
   "source": [
    "#catboost will identify NA\n",
    "train.fillna(-1,inplace=True)\n",
    "test.fillna(-1,inplace=True)"
   ]
  },
  {
   "cell_type": "code",
   "execution_count": 6,
   "id": "a48807c2",
   "metadata": {
    "execution": {
     "iopub.execute_input": "2023-08-16T15:43:40.304294Z",
     "iopub.status.busy": "2023-08-16T15:43:40.303814Z",
     "iopub.status.idle": "2023-08-16T15:43:40.317051Z",
     "shell.execute_reply": "2023-08-16T15:43:40.315674Z"
    },
    "papermill": {
     "duration": 0.031281,
     "end_time": "2023-08-16T15:43:40.319946",
     "exception": false,
     "start_time": "2023-08-16T15:43:40.288665",
     "status": "completed"
    },
    "tags": []
   },
   "outputs": [
    {
     "data": {
      "text/plain": [
       "PassengerId    0\n",
       "Survived       0\n",
       "Pclass         0\n",
       "Name           0\n",
       "Sex            0\n",
       "Age            0\n",
       "SibSp          0\n",
       "Parch          0\n",
       "Ticket         0\n",
       "Fare           0\n",
       "Cabin          0\n",
       "Embarked       0\n",
       "dtype: int64"
      ]
     },
     "execution_count": 6,
     "metadata": {},
     "output_type": "execute_result"
    }
   ],
   "source": [
    "train.isnull().sum()"
   ]
  },
  {
   "cell_type": "markdown",
   "id": "741ab4b9",
   "metadata": {
    "papermill": {
     "duration": 0.013305,
     "end_time": "2023-08-16T15:43:40.347809",
     "exception": false,
     "start_time": "2023-08-16T15:43:40.334504",
     "status": "completed"
    },
    "tags": []
   },
   "source": [
    "**Explore**"
   ]
  },
  {
   "cell_type": "code",
   "execution_count": 7,
   "id": "0f0c076c",
   "metadata": {
    "execution": {
     "iopub.execute_input": "2023-08-16T15:43:40.377278Z",
     "iopub.status.busy": "2023-08-16T15:43:40.376746Z",
     "iopub.status.idle": "2023-08-16T15:43:40.681517Z",
     "shell.execute_reply": "2023-08-16T15:43:40.679486Z"
    },
    "papermill": {
     "duration": 0.323054,
     "end_time": "2023-08-16T15:43:40.684648",
     "exception": false,
     "start_time": "2023-08-16T15:43:40.361594",
     "status": "completed"
    },
    "tags": []
   },
   "outputs": [
    {
     "data": {
      "image/png": "[encoded data removed]",
      "text/plain": [
       "<Figure size 600x400 with 1 Axes>"
      ]
     },
     "metadata": {},
     "output_type": "display_data"
    }
   ],
   "source": [
    "fig , ax = plt.subplots(figsize=(6,4))\n",
    "sns.countplot(x='Survived', data=train)\n",
    "plt.title(\"Count of Survival\")\n",
    "plt.show()\n"
   ]
  },
  {
   "cell_type": "code",
   "execution_count": 8,
   "id": "c6869be7",
   "metadata": {
    "execution": {
     "iopub.execute_input": "2023-08-16T15:43:40.715359Z",
     "iopub.status.busy": "2023-08-16T15:43:40.714881Z",
     "iopub.status.idle": "2023-08-16T15:43:40.721148Z",
     "shell.execute_reply": "2023-08-16T15:43:40.720161Z"
    },
    "papermill": {
     "duration": 0.024724,
     "end_time": "2023-08-16T15:43:40.723835",
     "exception": false,
     "start_time": "2023-08-16T15:43:40.699111",
     "status": "completed"
    },
    "tags": []
   },
   "outputs": [],
   "source": [
    "category=['Pclass','Sex','Embarked']\n",
    "numerical=['Age','SibSp','Parch','Fare']"
   ]
  },
  {
   "cell_type": "markdown",
   "id": "387e7a7b",
   "metadata": {
    "papermill": {
     "duration": 0.015484,
     "end_time": "2023-08-16T15:43:40.754410",
     "exception": false,
     "start_time": "2023-08-16T15:43:40.738926",
     "status": "completed"
    },
    "tags": []
   },
   "source": [
    "Peasrson Correlation for Numerical Variables"
   ]
  },
  {
   "cell_type": "code",
   "execution_count": 9,
   "id": "ab513e47",
   "metadata": {
    "execution": {
     "iopub.execute_input": "2023-08-16T15:43:40.786485Z",
     "iopub.status.busy": "2023-08-16T15:43:40.785468Z",
     "iopub.status.idle": "2023-08-16T15:43:40.803448Z",
     "shell.execute_reply": "2023-08-16T15:43:40.801067Z"
    },
    "papermill": {
     "duration": 0.037557,
     "end_time": "2023-08-16T15:43:40.806605",
     "exception": false,
     "start_time": "2023-08-16T15:43:40.769048",
     "status": "completed"
    },
    "tags": []
   },
   "outputs": [
    {
     "name": "stdout",
     "output_type": "stream",
     "text": [
      "            Age     SibSp     Parch      Fare\n",
      "Age    1.000000 -0.182282 -0.045272  0.135707\n",
      "SibSp -0.182282  1.000000  0.414838  0.159651\n",
      "Parch -0.045272  0.414838  1.000000  0.216225\n",
      "Fare   0.135707  0.159651  0.216225  1.000000\n"
     ]
    }
   ],
   "source": [
    "corr=train[numerical]  \n",
    "correlation= corr.corr(method='pearson')\n",
    "print(correlation)"
   ]
  },
  {
   "cell_type": "code",
   "execution_count": 10,
   "id": "99bb0487",
   "metadata": {
    "execution": {
     "iopub.execute_input": "2023-08-16T15:43:40.840298Z",
     "iopub.status.busy": "2023-08-16T15:43:40.839743Z",
     "iopub.status.idle": "2023-08-16T15:43:41.259524Z",
     "shell.execute_reply": "2023-08-16T15:43:41.257383Z"
    },
    "papermill": {
     "duration": 0.441574,
     "end_time": "2023-08-16T15:43:41.264195",
     "exception": false,
     "start_time": "2023-08-16T15:43:40.822621",
     "status": "completed"
    },
    "tags": []
   },
   "outputs": [
    {
     "data": {
      "image/png": "[encoded data removed]",
      "text/plain": [
       "<Figure size 1200x1000 with 2 Axes>"
      ]
     },
     "metadata": {},
     "output_type": "display_data"
    }
   ],
   "source": [
    "fig, ax =plt.subplots(figsize=(12, 10))\n",
    "plt.title(\"Correlation Matrix\")\n",
    "sns.heatmap(correlation, cmap=sns.diverging_palette(220, 10, as_cmap=True),\n",
    "            square=True, ax=ax)\n",
    "plt.show()"
   ]
  },
  {
   "cell_type": "markdown",
   "id": "03affa19",
   "metadata": {
    "papermill": {
     "duration": 0.016331,
     "end_time": "2023-08-16T15:43:41.297455",
     "exception": false,
     "start_time": "2023-08-16T15:43:41.281124",
     "status": "completed"
    },
    "tags": []
   },
   "source": [
    "Chi Square for Categorical variables"
   ]
  },
  {
   "cell_type": "code",
   "execution_count": 11,
   "id": "5e7abfea",
   "metadata": {
    "execution": {
     "iopub.execute_input": "2023-08-16T15:43:41.329833Z",
     "iopub.status.busy": "2023-08-16T15:43:41.328928Z",
     "iopub.status.idle": "2023-08-16T15:43:41.358857Z",
     "shell.execute_reply": "2023-08-16T15:43:41.357329Z"
    },
    "papermill": {
     "duration": 0.049371,
     "end_time": "2023-08-16T15:43:41.361394",
     "exception": false,
     "start_time": "2023-08-16T15:43:41.312023",
     "status": "completed"
    },
    "tags": []
   },
   "outputs": [
    {
     "name": "stdout",
     "output_type": "stream",
     "text": [
      "P value:  1.1973570627755645e-58\n"
     ]
    }
   ],
   "source": [
    "chisqG=chi2_contingency(pd.crosstab(train['Survived'], train['Sex']))\n",
    "print(\"P value: \",chisqG[1])"
   ]
  },
  {
   "cell_type": "code",
   "execution_count": 12,
   "id": "1bc9621a",
   "metadata": {
    "execution": {
     "iopub.execute_input": "2023-08-16T15:43:41.393158Z",
     "iopub.status.busy": "2023-08-16T15:43:41.392701Z",
     "iopub.status.idle": "2023-08-16T15:43:41.414514Z",
     "shell.execute_reply": "2023-08-16T15:43:41.412852Z"
    },
    "papermill": {
     "duration": 0.041907,
     "end_time": "2023-08-16T15:43:41.417829",
     "exception": false,
     "start_time": "2023-08-16T15:43:41.375922",
     "status": "completed"
    },
    "tags": []
   },
   "outputs": [
    {
     "name": "stdout",
     "output_type": "stream",
     "text": [
      "P value:  1.61871880094504e-06\n"
     ]
    }
   ],
   "source": [
    "chisqE=chi2_contingency(pd.crosstab(train['Survived'], train['Embarked']))\n",
    "print(\"P value: \",chisqE[1])"
   ]
  },
  {
   "cell_type": "code",
   "execution_count": 13,
   "id": "791aca43",
   "metadata": {
    "execution": {
     "iopub.execute_input": "2023-08-16T15:43:41.450389Z",
     "iopub.status.busy": "2023-08-16T15:43:41.449845Z",
     "iopub.status.idle": "2023-08-16T15:43:41.470932Z",
     "shell.execute_reply": "2023-08-16T15:43:41.469551Z"
    },
    "papermill": {
     "duration": 0.040987,
     "end_time": "2023-08-16T15:43:41.473901",
     "exception": false,
     "start_time": "2023-08-16T15:43:41.432914",
     "status": "completed"
    },
    "tags": []
   },
   "outputs": [
    {
     "name": "stdout",
     "output_type": "stream",
     "text": [
      "P value : 4.549251711298793e-23\n"
     ]
    }
   ],
   "source": [
    "chisqC=chi2_contingency(pd.crosstab(train['Survived'], train['Pclass']))\n",
    "print(\"P value :\",chisqC[1])"
   ]
  },
  {
   "cell_type": "markdown",
   "id": "f9d60cfb",
   "metadata": {
    "papermill": {
     "duration": 0.015948,
     "end_time": "2023-08-16T15:43:41.504554",
     "exception": false,
     "start_time": "2023-08-16T15:43:41.488606",
     "status": "completed"
    },
    "tags": []
   },
   "source": [
    "Rejecting the null hypothesis as the values are low."
   ]
  },
  {
   "cell_type": "code",
   "execution_count": 14,
   "id": "17e18a56",
   "metadata": {
    "execution": {
     "iopub.execute_input": "2023-08-16T15:43:41.539425Z",
     "iopub.status.busy": "2023-08-16T15:43:41.538915Z",
     "iopub.status.idle": "2023-08-16T15:43:41.897992Z",
     "shell.execute_reply": "2023-08-16T15:43:41.896807Z"
    },
    "papermill": {
     "duration": 0.380105,
     "end_time": "2023-08-16T15:43:41.900929",
     "exception": false,
     "start_time": "2023-08-16T15:43:41.520824",
     "status": "completed"
    },
    "tags": []
   },
   "outputs": [
    {
     "data": {
      "image/png": "[encoded data removed]",
      "text/plain": [
       "<Figure size 1200x1000 with 1 Axes>"
      ]
     },
     "metadata": {},
     "output_type": "display_data"
    }
   ],
   "source": [
    "fig, ax=plt.subplots(figsize=(12,10))\n",
    "sns.countplot(x='Survived', data=train, hue='Sex')\n",
    "ax.set_ylim(0,500)\n",
    "plt.title(\"Survival Rate based on Gender\")\n",
    "plt.show()"
   ]
  },
  {
   "cell_type": "markdown",
   "id": "268b8af6",
   "metadata": {
    "papermill": {
     "duration": 0.015593,
     "end_time": "2023-08-16T15:43:41.932646",
     "exception": false,
     "start_time": "2023-08-16T15:43:41.917053",
     "status": "completed"
    },
    "tags": []
   },
   "source": [
    "Proving the general assumption that Female survival rate is high"
   ]
  },
  {
   "cell_type": "code",
   "execution_count": 15,
   "id": "356ccdd8",
   "metadata": {
    "execution": {
     "iopub.execute_input": "2023-08-16T15:43:41.967839Z",
     "iopub.status.busy": "2023-08-16T15:43:41.966974Z",
     "iopub.status.idle": "2023-08-16T15:43:42.277220Z",
     "shell.execute_reply": "2023-08-16T15:43:42.275842Z"
    },
    "papermill": {
     "duration": 0.330876,
     "end_time": "2023-08-16T15:43:42.280038",
     "exception": false,
     "start_time": "2023-08-16T15:43:41.949162",
     "status": "completed"
    },
    "tags": []
   },
   "outputs": [
    {
     "data": {
      "image/png": "[encoded data removed]",
      "text/plain": [
       "<Figure size 800x600 with 1 Axes>"
      ]
     },
     "metadata": {},
     "output_type": "display_data"
    }
   ],
   "source": [
    "fig, ax=plt.subplots(1,figsize=(8,6))\n",
    "sns.boxplot(x='Survived',y='Fare', data=train)\n",
    "ax.set_ylim(0,300)\n",
    "plt.title(\"Survival Rate vs Class\")\n",
    "plt.show()"
   ]
  },
  {
   "cell_type": "code",
   "execution_count": 16,
   "id": "6fdaa8cc",
   "metadata": {
    "execution": {
     "iopub.execute_input": "2023-08-16T15:43:42.319817Z",
     "iopub.status.busy": "2023-08-16T15:43:42.318952Z",
     "iopub.status.idle": "2023-08-16T15:43:42.326512Z",
     "shell.execute_reply": "2023-08-16T15:43:42.325338Z"
    },
    "papermill": {
     "duration": 0.02994,
     "end_time": "2023-08-16T15:43:42.329627",
     "exception": false,
     "start_time": "2023-08-16T15:43:42.299687",
     "status": "completed"
    },
    "tags": []
   },
   "outputs": [],
   "source": [
    "#Prepare train and test \n",
    "x = train.drop('Survived',axis=1)\n",
    "y = train.Survived"
   ]
  },
  {
   "cell_type": "code",
   "execution_count": 17,
   "id": "216e8e27",
   "metadata": {
    "execution": {
     "iopub.execute_input": "2023-08-16T15:43:42.363873Z",
     "iopub.status.busy": "2023-08-16T15:43:42.362391Z",
     "iopub.status.idle": "2023-08-16T15:43:42.411069Z",
     "shell.execute_reply": "2023-08-16T15:43:42.409216Z"
    },
    "papermill": {
     "duration": 0.069109,
     "end_time": "2023-08-16T15:43:42.414176",
     "exception": false,
     "start_time": "2023-08-16T15:43:42.345067",
     "status": "completed"
    },
    "tags": []
   },
   "outputs": [],
   "source": [
    "xtrain,xtest,ytrain,ytest = train_test_split(x,y,train_size=.80,random_state=42)\n",
    "cat_features = np.where(x.dtypes != float)[0]\n",
    "\n",
    "train_pool = Pool(xtrain, ytrain, cat_features=cat_features)\n",
    "\n",
    "model = CatBoostClassifier(logging_level='Silent', eval_metric='Accuracy',random_seed=42)\n"
   ]
  },
  {
   "cell_type": "code",
   "execution_count": 18,
   "id": "a96108a0",
   "metadata": {
    "execution": {
     "iopub.execute_input": "2023-08-16T15:43:42.458634Z",
     "iopub.status.busy": "2023-08-16T15:43:42.457033Z",
     "iopub.status.idle": "2023-08-16T15:43:49.506823Z",
     "shell.execute_reply": "2023-08-16T15:43:49.505064Z"
    },
    "papermill": {
     "duration": 7.074724,
     "end_time": "2023-08-16T15:43:49.510237",
     "exception": false,
     "start_time": "2023-08-16T15:43:42.435513",
     "status": "completed"
    },
    "tags": []
   },
   "outputs": [],
   "source": [
    "fit_model=model.fit(train_pool,eval_set=(xtest,ytest))\n",
    "predict=fit_model.predict(xtest)"
   ]
  },
  {
   "cell_type": "markdown",
   "id": "19ea8218",
   "metadata": {
    "papermill": {
     "duration": 0.015733,
     "end_time": "2023-08-16T15:43:49.542223",
     "exception": false,
     "start_time": "2023-08-16T15:43:49.526490",
     "status": "completed"
    },
    "tags": []
   },
   "source": [
    "# Accuracy (proportion of correct predictions), Precision (true positives over total predicted positives), Recall (true positives over total actual positives), F1 score (harmonic mean of precision and recall)"
   ]
  },
  {
   "cell_type": "code",
   "execution_count": 19,
   "id": "80ce8551",
   "metadata": {
    "execution": {
     "iopub.execute_input": "2023-08-16T15:43:49.578196Z",
     "iopub.status.busy": "2023-08-16T15:43:49.577716Z",
     "iopub.status.idle": "2023-08-16T15:43:49.597527Z",
     "shell.execute_reply": "2023-08-16T15:43:49.595427Z"
    },
    "papermill": {
     "duration": 0.041078,
     "end_time": "2023-08-16T15:43:49.600526",
     "exception": false,
     "start_time": "2023-08-16T15:43:49.559448",
     "status": "completed"
    },
    "tags": []
   },
   "outputs": [
    {
     "name": "stdout",
     "output_type": "stream",
     "text": [
      "Catboost accuracy is :0.84358\n",
      "Classification Report               precision    recall  f1-score   support\n",
      "\n",
      "           0       0.83      0.91      0.87       105\n",
      "           1       0.86      0.74      0.80        74\n",
      "\n",
      "    accuracy                           0.84       179\n",
      "   macro avg       0.85      0.83      0.83       179\n",
      "weighted avg       0.84      0.84      0.84       179\n",
      "\n"
     ]
    }
   ],
   "source": [
    "print('Catboost accuracy is :{:.5f}'.format(accuracy_score(ytest,predict)))\n",
    "print('Classification Report', classification_report(ytest,predict))"
   ]
  },
  {
   "cell_type": "code",
   "execution_count": 20,
   "id": "c9738f09",
   "metadata": {
    "execution": {
     "iopub.execute_input": "2023-08-16T15:43:49.634858Z",
     "iopub.status.busy": "2023-08-16T15:43:49.634323Z",
     "iopub.status.idle": "2023-08-16T15:43:50.044567Z",
     "shell.execute_reply": "2023-08-16T15:43:50.043179Z"
    },
    "papermill": {
     "duration": 0.431384,
     "end_time": "2023-08-16T15:43:50.047671",
     "exception": false,
     "start_time": "2023-08-16T15:43:49.616287",
     "status": "completed"
    },
    "tags": []
   },
   "outputs": [
    {
     "data": {
      "image/png": "[encoded data removed]",
      "text/plain": [
       "<Figure size 1200x1000 with 1 Axes>"
      ]
     },
     "metadata": {},
     "output_type": "display_data"
    }
   ],
   "source": [
    "plt.figure(figsize=(12,10))\n",
    "fs = pd.Series(model.get_feature_importance(), index=x.columns).sort_values(ascending=False)\n",
    "sns.barplot(x=fs.values, y=fs.index)\n",
    "plt.title('CatBoostClassifier feature Importance')\n",
    "plt.xlabel('Feature Importance')\n",
    "plt.ylabel('Feature names')\n",
    "plt.show()"
   ]
  },
  {
   "cell_type": "markdown",
   "id": "fae54f99",
   "metadata": {
    "papermill": {
     "duration": 0.016158,
     "end_time": "2023-08-16T15:43:50.080598",
     "exception": false,
     "start_time": "2023-08-16T15:43:50.064440",
     "status": "completed"
    },
    "tags": []
   },
   "source": [
    "# **ROC Curve: A probability curve that plots the TPR(True Positive Rate) against the FPR(False Positive Rate) at various threshold values and separates the ‘signal’ from the ‘noise’.**"
   ]
  },
  {
   "cell_type": "code",
   "execution_count": 21,
   "id": "c427a673",
   "metadata": {
    "execution": {
     "iopub.execute_input": "2023-08-16T15:43:50.116308Z",
     "iopub.status.busy": "2023-08-16T15:43:50.115864Z",
     "iopub.status.idle": "2023-08-16T15:43:50.351236Z",
     "shell.execute_reply": "2023-08-16T15:43:50.348853Z"
    },
    "papermill": {
     "duration": 0.257736,
     "end_time": "2023-08-16T15:43:50.354905",
     "exception": false,
     "start_time": "2023-08-16T15:43:50.097169",
     "status": "completed"
    },
    "tags": []
   },
   "outputs": [
    {
     "data": {
      "text/plain": [
       "<Figure size 1200x1000 with 0 Axes>"
      ]
     },
     "metadata": {},
     "output_type": "display_data"
    },
    {
     "data": {
      "image/png": "[encoded data removed]",
      "text/plain": [
       "<Figure size 640x480 with 1 Axes>"
      ]
     },
     "metadata": {},
     "output_type": "display_data"
    }
   ],
   "source": [
    "plt.figure(figsize=(12,10))\n",
    "fpr, tpr, thresholds = roc_curve(ytest, predict)\n",
    "roc_auc = auc(fpr, tpr)\n",
    "display = RocCurveDisplay(fpr=fpr, tpr=tpr, roc_auc=roc_auc, estimator_name='ROC curve')\n",
    "display.plot()\n",
    "plt.show()"
   ]
  },
  {
   "cell_type": "markdown",
   "id": "b020a599",
   "metadata": {
    "papermill": {
     "duration": 0.017719,
     "end_time": "2023-08-16T15:43:50.391209",
     "exception": false,
     "start_time": "2023-08-16T15:43:50.373490",
     "status": "completed"
    },
    "tags": []
   },
   "source": [
    "# Try applying Grid Search to see if it improves accuracy"
   ]
  },
  {
   "cell_type": "code",
   "execution_count": 22,
   "id": "677702da",
   "metadata": {
    "execution": {
     "iopub.execute_input": "2023-08-16T15:43:50.427601Z",
     "iopub.status.busy": "2023-08-16T15:43:50.427186Z",
     "iopub.status.idle": "2023-08-16T15:43:50.436014Z",
     "shell.execute_reply": "2023-08-16T15:43:50.434485Z"
    },
    "papermill": {
     "duration": 0.030345,
     "end_time": "2023-08-16T15:43:50.438646",
     "exception": false,
     "start_time": "2023-08-16T15:43:50.408301",
     "status": "completed"
    },
    "tags": []
   },
   "outputs": [],
   "source": [
    "cb= CatBoostClassifier(cat_features=cat_features)\n",
    "parameters = {'iterations': [500],\n",
    "          'depth': [4, 5, 6],\n",
    "          'loss_function': ['Logloss', 'CrossEntropy'],\n",
    "          'l2_leaf_reg': np.logspace(-20, -19, 3),\n",
    "          'leaf_estimation_iterations': [10],\n",
    "#           'eval_metric': ['Accuracy'],\n",
    "#           'use_best_model': ['True'],\n",
    "          'logging_level':['Silent'],\n",
    "          'random_seed': [42]\n",
    "         }\n",
    "model_catboost = GridSearchCV(\n",
    "    cb, \n",
    "    parameters, \n",
    "    cv=5,\n",
    "    scoring='accuracy',\n",
    ")"
   ]
  },
  {
   "cell_type": "code",
   "execution_count": 23,
   "id": "ebfeed22",
   "metadata": {
    "execution": {
     "iopub.execute_input": "2023-08-16T15:43:50.476617Z",
     "iopub.status.busy": "2023-08-16T15:43:50.475346Z",
     "iopub.status.idle": "2023-08-16T15:47:47.346111Z",
     "shell.execute_reply": "2023-08-16T15:47:47.344845Z"
    },
    "papermill": {
     "duration": 236.910358,
     "end_time": "2023-08-16T15:47:47.366851",
     "exception": false,
     "start_time": "2023-08-16T15:43:50.456493",
     "status": "completed"
    },
    "tags": []
   },
   "outputs": [
    {
     "data": {
      "text/html": [
       "<style>#sk-container-id-1 {color: black;background-color: white;}#sk-container-id-1 pre{padding: 0;}#sk-container-id-1 div.sk-toggleable {background-color: white;}#sk-container-id-1 label.sk-toggleable__label {cursor: pointer;display: block;width: 100%;margin-bottom: 0;padding: 0.3em;box-sizing: border-box;text-align: center;}#sk-container-id-1 label.sk-toggleable__label-arrow:before {content: \"▸\";float: left;margin-right: 0.25em;color: #696969;}#sk-container-id-1 label.sk-toggleable__label-arrow:hover:before {color: black;}#sk-container-id-1 div.sk-estimator:hover label.sk-toggleable__label-arrow:before {color: black;}#sk-container-id-1 div.sk-toggleable__content {max-height: 0;max-width: 0;overflow: hidden;text-align: left;background-color: #f0f8ff;}#sk-container-id-1 div.sk-toggleable__content pre {margin: 0.2em;color: black;border-radius: 0.25em;background-color: #f0f8ff;}#sk-container-id-1 input.sk-toggleable__control:checked~div.sk-toggleable__content {max-height: 200px;max-width: 100%;overflow: auto;}#sk-container-id-1 input.sk-toggleable__control:checked~label.sk-toggleable__label-arrow:before {content: \"▾\";}#sk-container-id-1 div.sk-estimator input.sk-toggleable__control:checked~label.sk-toggleable__label {background-color: #d4ebff;}#sk-container-id-1 div.sk-label input.sk-toggleable__control:checked~label.sk-toggleable__label {background-color: #d4ebff;}#sk-container-id-1 input.sk-hidden--visually {border: 0;clip: rect(1px 1px 1px 1px);clip: rect(1px, 1px, 1px, 1px);height: 1px;margin: -1px;overflow: hidden;padding: 0;position: absolute;width: 1px;}#sk-container-id-1 div.sk-estimator {font-family: monospace;background-color: #f0f8ff;border: 1px dotted black;border-radius: 0.25em;box-sizing: border-box;margin-bottom: 0.5em;}#sk-container-id-1 div.sk-estimator:hover {background-color: #d4ebff;}#sk-container-id-1 div.sk-parallel-item::after {content: \"\";width: 100%;border-bottom: 1px solid gray;flex-grow: 1;}#sk-container-id-1 div.sk-label:hover label.sk-toggleable__label {background-color: #d4ebff;}#sk-container-id-1 div.sk-serial::before {content: \"\";position: absolute;border-left: 1px solid gray;box-sizing: border-box;top: 0;bottom: 0;left: 50%;z-index: 0;}#sk-container-id-1 div.sk-serial {display: flex;flex-direction: column;align-items: center;background-color: white;padding-right: 0.2em;padding-left: 0.2em;position: relative;}#sk-container-id-1 div.sk-item {position: relative;z-index: 1;}#sk-container-id-1 div.sk-parallel {display: flex;align-items: stretch;justify-content: center;background-color: white;position: relative;}#sk-container-id-1 div.sk-item::before, #sk-container-id-1 div.sk-parallel-item::before {content: \"\";position: absolute;border-left: 1px solid gray;box-sizing: border-box;top: 0;bottom: 0;left: 50%;z-index: -1;}#sk-container-id-1 div.sk-parallel-item {display: flex;flex-direction: column;z-index: 1;position: relative;background-color: white;}#sk-container-id-1 div.sk-parallel-item:first-child::after {align-self: flex-end;width: 50%;}#sk-container-id-1 div.sk-parallel-item:last-child::after {align-self: flex-start;width: 50%;}#sk-container-id-1 div.sk-parallel-item:only-child::after {width: 0;}#sk-container-id-1 div.sk-dashed-wrapped {border: 1px dashed gray;margin: 0 0.4em 0.5em 0.4em;box-sizing: border-box;padding-bottom: 0.4em;background-color: white;}#sk-container-id-1 div.sk-label label {font-family: monospace;font-weight: bold;display: inline-block;line-height: 1.2em;}#sk-container-id-1 div.sk-label-container {text-align: center;}#sk-container-id-1 div.sk-container {/* jupyter's `normalize.less` sets `[hidden] { display: none; }` but bootstrap.min.css set `[hidden] { display: none !important; }` so we also need the `!important` here to be able to override the default hidden behavior on the sphinx rendered scikit-learn.org. See: https://github.com/scikit-learn/scikit-learn/issues/21755 */display: inline-block !important;position: relative;}#sk-container-id-1 div.sk-text-repr-fallback {display: none;}</style><div id=\"sk-container-id-1\" class=\"sk-top-container\"><div class=\"sk-text-repr-fallback\"><pre>GridSearchCV(cv=5,\n",
       "             estimator=&lt;catboost.core.CatBoostClassifier object at 0x7cd3a44f57e0&gt;,\n",
       "             param_grid={&#x27;depth&#x27;: [4, 5, 6], &#x27;iterations&#x27;: [500],\n",
       "                         &#x27;l2_leaf_reg&#x27;: array([1.00000000e-20, 3.16227766e-20, 1.00000000e-19]),\n",
       "                         &#x27;leaf_estimation_iterations&#x27;: [10],\n",
       "                         &#x27;logging_level&#x27;: [&#x27;Silent&#x27;],\n",
       "                         &#x27;loss_function&#x27;: [&#x27;Logloss&#x27;, &#x27;CrossEntropy&#x27;],\n",
       "                         &#x27;random_seed&#x27;: [42]},\n",
       "             scoring=&#x27;accuracy&#x27;)</pre><b>In a Jupyter environment, please rerun this cell to show the HTML representation or trust the notebook. <br />On GitHub, the HTML representation is unable to render, please try loading this page with nbviewer.org.</b></div><div class=\"sk-container\" hidden><div class=\"sk-item sk-dashed-wrapped\"><div class=\"sk-label-container\"><div class=\"sk-label sk-toggleable\"><input class=\"sk-toggleable__control sk-hidden--visually\" id=\"sk-estimator-id-1\" type=\"checkbox\" ><label for=\"sk-estimator-id-1\" class=\"sk-toggleable__label sk-toggleable__label-arrow\">GridSearchCV</label><div class=\"sk-toggleable__content\"><pre>GridSearchCV(cv=5,\n",
       "             estimator=&lt;catboost.core.CatBoostClassifier object at 0x7cd3a44f57e0&gt;,\n",
       "             param_grid={&#x27;depth&#x27;: [4, 5, 6], &#x27;iterations&#x27;: [500],\n",
       "                         &#x27;l2_leaf_reg&#x27;: array([1.00000000e-20, 3.16227766e-20, 1.00000000e-19]),\n",
       "                         &#x27;leaf_estimation_iterations&#x27;: [10],\n",
       "                         &#x27;logging_level&#x27;: [&#x27;Silent&#x27;],\n",
       "                         &#x27;loss_function&#x27;: [&#x27;Logloss&#x27;, &#x27;CrossEntropy&#x27;],\n",
       "                         &#x27;random_seed&#x27;: [42]},\n",
       "             scoring=&#x27;accuracy&#x27;)</pre></div></div></div><div class=\"sk-parallel\"><div class=\"sk-parallel-item\"><div class=\"sk-item\"><div class=\"sk-label-container\"><div class=\"sk-label sk-toggleable\"><input class=\"sk-toggleable__control sk-hidden--visually\" id=\"sk-estimator-id-2\" type=\"checkbox\" ><label for=\"sk-estimator-id-2\" class=\"sk-toggleable__label sk-toggleable__label-arrow\">estimator: CatBoostClassifier</label><div class=\"sk-toggleable__content\"><pre>&lt;catboost.core.CatBoostClassifier object at 0x7cd3a44f57e0&gt;</pre></div></div></div><div class=\"sk-serial\"><div class=\"sk-item\"><div class=\"sk-estimator sk-toggleable\"><input class=\"sk-toggleable__control sk-hidden--visually\" id=\"sk-estimator-id-3\" type=\"checkbox\" ><label for=\"sk-estimator-id-3\" class=\"sk-toggleable__label sk-toggleable__label-arrow\">CatBoostClassifier</label><div class=\"sk-toggleable__content\"><pre>&lt;catboost.core.CatBoostClassifier object at 0x7cd3a44f57e0&gt;</pre></div></div></div></div></div></div></div></div></div></div>"
      ],
      "text/plain": [
       "GridSearchCV(cv=5,\n",
       "             estimator=<catboost.core.CatBoostClassifier object at 0x7cd3a44f57e0>,\n",
       "             param_grid={'depth': [4, 5, 6], 'iterations': [500],\n",
       "                         'l2_leaf_reg': array([1.00000000e-20, 3.16227766e-20, 1.00000000e-19]),\n",
       "                         'leaf_estimation_iterations': [10],\n",
       "                         'logging_level': ['Silent'],\n",
       "                         'loss_function': ['Logloss', 'CrossEntropy'],\n",
       "                         'random_seed': [42]},\n",
       "             scoring='accuracy')"
      ]
     },
     "execution_count": 23,
     "metadata": {},
     "output_type": "execute_result"
    }
   ],
   "source": [
    "model_catboost.fit(xtrain,ytrain)"
   ]
  },
  {
   "cell_type": "code",
   "execution_count": 24,
   "id": "b3c7e9b4",
   "metadata": {
    "execution": {
     "iopub.execute_input": "2023-08-16T15:47:47.405177Z",
     "iopub.status.busy": "2023-08-16T15:47:47.404329Z",
     "iopub.status.idle": "2023-08-16T15:47:47.413470Z",
     "shell.execute_reply": "2023-08-16T15:47:47.411921Z"
    },
    "papermill": {
     "duration": 0.032166,
     "end_time": "2023-08-16T15:47:47.416669",
     "exception": false,
     "start_time": "2023-08-16T15:47:47.384503",
     "status": "completed"
    },
    "tags": []
   },
   "outputs": [
    {
     "data": {
      "text/plain": [
       "{'depth': 4,\n",
       " 'iterations': 500,\n",
       " 'l2_leaf_reg': 1e-20,\n",
       " 'leaf_estimation_iterations': 10,\n",
       " 'logging_level': 'Silent',\n",
       " 'loss_function': 'Logloss',\n",
       " 'random_seed': 42}"
      ]
     },
     "execution_count": 24,
     "metadata": {},
     "output_type": "execute_result"
    }
   ],
   "source": [
    "best_param = model_catboost.best_params_\n",
    "best_param"
   ]
  },
  {
   "cell_type": "code",
   "execution_count": 25,
   "id": "6dff0f97",
   "metadata": {
    "execution": {
     "iopub.execute_input": "2023-08-16T15:47:47.455443Z",
     "iopub.status.busy": "2023-08-16T15:47:47.454946Z",
     "iopub.status.idle": "2023-08-16T15:47:47.463076Z",
     "shell.execute_reply": "2023-08-16T15:47:47.461749Z"
    },
    "papermill": {
     "duration": 0.030464,
     "end_time": "2023-08-16T15:47:47.465739",
     "exception": false,
     "start_time": "2023-08-16T15:47:47.435275",
     "status": "completed"
    },
    "tags": []
   },
   "outputs": [
    {
     "data": {
      "text/plain": [
       "0.8230867723825469"
      ]
     },
     "execution_count": 25,
     "metadata": {},
     "output_type": "execute_result"
    }
   ],
   "source": [
    "best_score = model_catboost.best_score_\n",
    "best_score"
   ]
  },
  {
   "cell_type": "code",
   "execution_count": 26,
   "id": "d4b83969",
   "metadata": {
    "execution": {
     "iopub.execute_input": "2023-08-16T15:47:47.504424Z",
     "iopub.status.busy": "2023-08-16T15:47:47.503974Z",
     "iopub.status.idle": "2023-08-16T15:47:49.809378Z",
     "shell.execute_reply": "2023-08-16T15:47:49.807904Z"
    },
    "papermill": {
     "duration": 2.328392,
     "end_time": "2023-08-16T15:47:49.812882",
     "exception": false,
     "start_time": "2023-08-16T15:47:47.484490",
     "status": "completed"
    },
    "tags": []
   },
   "outputs": [],
   "source": [
    "bpmodel = CatBoostClassifier(iterations=500,\n",
    "                           loss_function=best_param['loss_function'],\n",
    "                           depth=best_param['depth'],\n",
    "                           l2_leaf_reg=best_param['l2_leaf_reg'],\n",
    "                           eval_metric='Accuracy',\n",
    "                           leaf_estimation_iterations=10,\n",
    "                           use_best_model=True,\n",
    "                           logging_level='Silent',\n",
    "                           random_seed=42\n",
    "                          )\n",
    "bestcb = bpmodel.fit(train_pool, eval_set=(xtest,ytest))\n"
   ]
  },
  {
   "cell_type": "code",
   "execution_count": 27,
   "id": "ef44d0a4",
   "metadata": {
    "execution": {
     "iopub.execute_input": "2023-08-16T15:47:49.853539Z",
     "iopub.status.busy": "2023-08-16T15:47:49.852226Z",
     "iopub.status.idle": "2023-08-16T15:47:49.860551Z",
     "shell.execute_reply": "2023-08-16T15:47:49.859382Z"
    },
    "papermill": {
     "duration": 0.031858,
     "end_time": "2023-08-16T15:47:49.863111",
     "exception": false,
     "start_time": "2023-08-16T15:47:49.831253",
     "status": "completed"
    },
    "tags": []
   },
   "outputs": [],
   "source": [
    "bppredict=bestcb.predict(xtest)"
   ]
  },
  {
   "cell_type": "code",
   "execution_count": 28,
   "id": "41f0b187",
   "metadata": {
    "execution": {
     "iopub.execute_input": "2023-08-16T15:47:49.904081Z",
     "iopub.status.busy": "2023-08-16T15:47:49.903058Z",
     "iopub.status.idle": "2023-08-16T15:47:49.911412Z",
     "shell.execute_reply": "2023-08-16T15:47:49.909574Z"
    },
    "papermill": {
     "duration": 0.031305,
     "end_time": "2023-08-16T15:47:49.914132",
     "exception": false,
     "start_time": "2023-08-16T15:47:49.882827",
     "status": "completed"
    },
    "tags": []
   },
   "outputs": [
    {
     "name": "stdout",
     "output_type": "stream",
     "text": [
      "Catboost accuracy with gridsearch is :0.83240\n"
     ]
    }
   ],
   "source": [
    "print('Catboost accuracy with gridsearch is :{:.5f}'.format(accuracy_score(ytest,bppredict)))\n"
   ]
  },
  {
   "cell_type": "markdown",
   "id": "907bcdeb",
   "metadata": {
    "papermill": {
     "duration": 0.019393,
     "end_time": "2023-08-16T15:47:49.952027",
     "exception": false,
     "start_time": "2023-08-16T15:47:49.932634",
     "status": "completed"
    },
    "tags": []
   },
   "source": [
    "DIFFERENCE BETWEEN DEFAULT CATBOOST AND GRIDSERCH BEST PARAM CATBOOST"
   ]
  },
  {
   "cell_type": "code",
   "execution_count": 29,
   "id": "7004f61a",
   "metadata": {
    "execution": {
     "iopub.execute_input": "2023-08-16T15:47:49.990716Z",
     "iopub.status.busy": "2023-08-16T15:47:49.990254Z",
     "iopub.status.idle": "2023-08-16T15:47:50.340876Z",
     "shell.execute_reply": "2023-08-16T15:47:50.339358Z"
    },
    "papermill": {
     "duration": 0.373151,
     "end_time": "2023-08-16T15:47:50.343443",
     "exception": false,
     "start_time": "2023-08-16T15:47:49.970292",
     "status": "completed"
    },
    "tags": []
   },
   "outputs": [
    {
     "data": {
      "text/plain": [
       "<Axes: title={'center': 'Normalized Confusion Matrix'}, xlabel='Predicted label', ylabel='True label'>"
      ]
     },
     "execution_count": 29,
     "metadata": {},
     "output_type": "execute_result"
    },
    {
     "data": {
      "image/png": "[encoded data removed]",
      "text/plain": [
       "<Figure size 640x480 with 2 Axes>"
      ]
     },
     "metadata": {},
     "output_type": "display_data"
    }
   ],
   "source": [
    "skplt.metrics.plot_confusion_matrix(ytest, predict, normalize=True)\n"
   ]
  },
  {
   "cell_type": "code",
   "execution_count": 30,
   "id": "8bb02811",
   "metadata": {
    "execution": {
     "iopub.execute_input": "2023-08-16T15:47:50.384679Z",
     "iopub.status.busy": "2023-08-16T15:47:50.383055Z",
     "iopub.status.idle": "2023-08-16T15:47:50.702994Z",
     "shell.execute_reply": "2023-08-16T15:47:50.701464Z"
    },
    "papermill": {
     "duration": 0.344368,
     "end_time": "2023-08-16T15:47:50.706569",
     "exception": false,
     "start_time": "2023-08-16T15:47:50.362201",
     "status": "completed"
    },
    "tags": []
   },
   "outputs": [
    {
     "data": {
      "text/plain": [
       "<Axes: title={'center': 'Normalized Confusion Matrix'}, xlabel='Predicted label', ylabel='True label'>"
      ]
     },
     "execution_count": 30,
     "metadata": {},
     "output_type": "execute_result"
    },
    {
     "data": {
      "image/png": "[encoded data removed]",
      "text/plain": [
       "<Figure size 640x480 with 2 Axes>"
      ]
     },
     "metadata": {},
     "output_type": "display_data"
    }
   ],
   "source": [
    "skplt.metrics.plot_confusion_matrix(ytest, bppredict, normalize=True)\n"
   ]
  },
  {
   "cell_type": "code",
   "execution_count": 31,
   "id": "d2821f74",
   "metadata": {
    "execution": {
     "iopub.execute_input": "2023-08-16T15:47:50.751477Z",
     "iopub.status.busy": "2023-08-16T15:47:50.750983Z",
     "iopub.status.idle": "2023-08-16T15:47:50.773859Z",
     "shell.execute_reply": "2023-08-16T15:47:50.772275Z"
    },
    "papermill": {
     "duration": 0.048835,
     "end_time": "2023-08-16T15:47:50.777071",
     "exception": false,
     "start_time": "2023-08-16T15:47:50.728236",
     "status": "completed"
    },
    "tags": []
   },
   "outputs": [
    {
     "name": "stderr",
     "output_type": "stream",
     "text": [
      "/tmp/ipykernel_20/1403781632.py:2: DeprecationWarning: `np.int` is a deprecated alias for the builtin `int`. To silence this warning, use `int` by itself. Doing this will not modify any behavior and is safe. When replacing `np.int`, you may wish to use e.g. `np.int64` or `np.int32` to specify the precision. If you wish to review your current use, check the release note link for additional information.\n",
      "Deprecated in NumPy 1.20; for more details and guidance: https://numpy.org/devdocs/release/1.20.0-notes.html#deprecations\n",
      "  pred = pred.astype(np.int)\n"
     ]
    }
   ],
   "source": [
    "pred = fit_model.predict(test)\n",
    "pred = pred.astype(np.int)\n",
    "submission = pd.DataFrame({'PassengerId':test['PassengerId'],'Survived':pred})\n",
    "#make the file to yourself's directory\n",
    "submission.to_csv('catboost.csv',index=False)"
   ]
  }
 ],
 "metadata": {
  "kernelspec": {
   "display_name": "Python 3",
   "language": "python",
   "name": "python3"
  },
  "language_info": {
   "codemirror_mode": {
    "name": "ipython",
    "version": 3
   },
   "file_extension": ".py",
   "mimetype": "text/x-python",
   "name": "python",
   "nbconvert_exporter": "python",
   "pygments_lexer": "ipython3",
   "version": "3.10.12"
  },
  "papermill": {
   "default_parameters": {},
   "duration": 268.377804,
   "end_time": "2023-08-16T15:47:52.226985",
   "environment_variables": {},
   "exception": null,
   "input_path": "__notebook__.ipynb",
   "output_path": "__notebook__.ipynb",
   "parameters": {},
   "start_time": "2023-08-16T15:43:23.849181",
   "version": "2.4.0"
  }
 },
 "nbformat": 4,
 "nbformat_minor": 5
}
